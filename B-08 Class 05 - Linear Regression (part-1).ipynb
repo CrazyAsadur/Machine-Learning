{
 "cells": [
  {
   "cell_type": "code",
   "execution_count": 1,
   "id": "e425199a",
   "metadata": {},
   "outputs": [],
   "source": [
    "import pandas as pd\n",
    "import matplotlib.pyplot as plt\n",
    "import numpy as np"
   ]
  },
  {
   "cell_type": "code",
   "execution_count": 2,
   "id": "b055e197",
   "metadata": {},
   "outputs": [
    {
     "data": {
      "text/html": [
       "<div>\n",
       "<style scoped>\n",
       "    .dataframe tbody tr th:only-of-type {\n",
       "        vertical-align: middle;\n",
       "    }\n",
       "\n",
       "    .dataframe tbody tr th {\n",
       "        vertical-align: top;\n",
       "    }\n",
       "\n",
       "    .dataframe thead th {\n",
       "        text-align: right;\n",
       "    }\n",
       "</style>\n",
       "<table border=\"1\" class=\"dataframe\">\n",
       "  <thead>\n",
       "    <tr style=\"text-align: right;\">\n",
       "      <th></th>\n",
       "      <th>area</th>\n",
       "      <th>rent</th>\n",
       "    </tr>\n",
       "  </thead>\n",
       "  <tbody>\n",
       "    <tr>\n",
       "      <th>0</th>\n",
       "      <td>2000</td>\n",
       "      <td>31500</td>\n",
       "    </tr>\n",
       "    <tr>\n",
       "      <th>1</th>\n",
       "      <td>2100</td>\n",
       "      <td>35000</td>\n",
       "    </tr>\n",
       "    <tr>\n",
       "      <th>2</th>\n",
       "      <td>2500</td>\n",
       "      <td>41050</td>\n",
       "    </tr>\n",
       "    <tr>\n",
       "      <th>3</th>\n",
       "      <td>2250</td>\n",
       "      <td>36100</td>\n",
       "    </tr>\n",
       "    <tr>\n",
       "      <th>4</th>\n",
       "      <td>3000</td>\n",
       "      <td>52100</td>\n",
       "    </tr>\n",
       "  </tbody>\n",
       "</table>\n",
       "</div>"
      ],
      "text/plain": [
       "   area   rent\n",
       "0  2000  31500\n",
       "1  2100  35000\n",
       "2  2500  41050\n",
       "3  2250  36100\n",
       "4  3000  52100"
      ]
     },
     "execution_count": 2,
     "metadata": {},
     "output_type": "execute_result"
    }
   ],
   "source": [
    "df = pd.read_csv('Rent Data.csv')\n",
    "df.head()"
   ]
  },
  {
   "cell_type": "markdown",
   "id": "95910c87",
   "metadata": {},
   "source": [
    "# Come to the point"
   ]
  },
  {
   "cell_type": "code",
   "execution_count": 3,
   "id": "33ae4b13",
   "metadata": {},
   "outputs": [
    {
     "data": {
      "text/html": [
       "<div>\n",
       "<style scoped>\n",
       "    .dataframe tbody tr th:only-of-type {\n",
       "        vertical-align: middle;\n",
       "    }\n",
       "\n",
       "    .dataframe tbody tr th {\n",
       "        vertical-align: top;\n",
       "    }\n",
       "\n",
       "    .dataframe thead th {\n",
       "        text-align: right;\n",
       "    }\n",
       "</style>\n",
       "<table border=\"1\" class=\"dataframe\">\n",
       "  <thead>\n",
       "    <tr style=\"text-align: right;\">\n",
       "      <th></th>\n",
       "      <th>area</th>\n",
       "      <th>rent</th>\n",
       "    </tr>\n",
       "  </thead>\n",
       "  <tbody>\n",
       "    <tr>\n",
       "      <th>0</th>\n",
       "      <td>2000</td>\n",
       "      <td>31500</td>\n",
       "    </tr>\n",
       "    <tr>\n",
       "      <th>1</th>\n",
       "      <td>2100</td>\n",
       "      <td>35000</td>\n",
       "    </tr>\n",
       "    <tr>\n",
       "      <th>2</th>\n",
       "      <td>2500</td>\n",
       "      <td>41050</td>\n",
       "    </tr>\n",
       "    <tr>\n",
       "      <th>3</th>\n",
       "      <td>2250</td>\n",
       "      <td>36100</td>\n",
       "    </tr>\n",
       "    <tr>\n",
       "      <th>4</th>\n",
       "      <td>3000</td>\n",
       "      <td>52100</td>\n",
       "    </tr>\n",
       "  </tbody>\n",
       "</table>\n",
       "</div>"
      ],
      "text/plain": [
       "   area   rent\n",
       "0  2000  31500\n",
       "1  2100  35000\n",
       "2  2500  41050\n",
       "3  2250  36100\n",
       "4  3000  52100"
      ]
     },
     "execution_count": 3,
     "metadata": {},
     "output_type": "execute_result"
    }
   ],
   "source": [
    "df.head()"
   ]
  },
  {
   "cell_type": "code",
   "execution_count": 4,
   "id": "db4dfb33",
   "metadata": {},
   "outputs": [
    {
     "data": {
      "text/html": [
       "<div>\n",
       "<style scoped>\n",
       "    .dataframe tbody tr th:only-of-type {\n",
       "        vertical-align: middle;\n",
       "    }\n",
       "\n",
       "    .dataframe tbody tr th {\n",
       "        vertical-align: top;\n",
       "    }\n",
       "\n",
       "    .dataframe thead th {\n",
       "        text-align: right;\n",
       "    }\n",
       "</style>\n",
       "<table border=\"1\" class=\"dataframe\">\n",
       "  <thead>\n",
       "    <tr style=\"text-align: right;\">\n",
       "      <th></th>\n",
       "      <th>area</th>\n",
       "      <th>rent</th>\n",
       "    </tr>\n",
       "  </thead>\n",
       "  <tbody>\n",
       "    <tr>\n",
       "      <th>24</th>\n",
       "      <td>2800</td>\n",
       "      <td>50000</td>\n",
       "    </tr>\n",
       "    <tr>\n",
       "      <th>25</th>\n",
       "      <td>3100</td>\n",
       "      <td>53000</td>\n",
       "    </tr>\n",
       "    <tr>\n",
       "      <th>26</th>\n",
       "      <td>2750</td>\n",
       "      <td>48000</td>\n",
       "    </tr>\n",
       "    <tr>\n",
       "      <th>27</th>\n",
       "      <td>1800</td>\n",
       "      <td>25000</td>\n",
       "    </tr>\n",
       "    <tr>\n",
       "      <th>28</th>\n",
       "      <td>2200</td>\n",
       "      <td>31460</td>\n",
       "    </tr>\n",
       "  </tbody>\n",
       "</table>\n",
       "</div>"
      ],
      "text/plain": [
       "    area   rent\n",
       "24  2800  50000\n",
       "25  3100  53000\n",
       "26  2750  48000\n",
       "27  1800  25000\n",
       "28  2200  31460"
      ]
     },
     "execution_count": 4,
     "metadata": {},
     "output_type": "execute_result"
    }
   ],
   "source": [
    "df.tail()"
   ]
  },
  {
   "cell_type": "code",
   "execution_count": 5,
   "id": "c6b71a76",
   "metadata": {},
   "outputs": [
    {
     "data": {
      "text/plain": [
       "(29, 2)"
      ]
     },
     "execution_count": 5,
     "metadata": {},
     "output_type": "execute_result"
    }
   ],
   "source": [
    "df.shape"
   ]
  },
  {
   "cell_type": "code",
   "execution_count": 6,
   "id": "581444c4",
   "metadata": {},
   "outputs": [
    {
     "name": "stdout",
     "output_type": "stream",
     "text": [
      "<class 'pandas.core.frame.DataFrame'>\n",
      "RangeIndex: 29 entries, 0 to 28\n",
      "Data columns (total 2 columns):\n",
      " #   Column  Non-Null Count  Dtype\n",
      "---  ------  --------------  -----\n",
      " 0   area    29 non-null     int64\n",
      " 1   rent    29 non-null     int64\n",
      "dtypes: int64(2)\n",
      "memory usage: 592.0 bytes\n"
     ]
    }
   ],
   "source": [
    "df.info()"
   ]
  },
  {
   "cell_type": "code",
   "execution_count": 7,
   "id": "d28cb3e1",
   "metadata": {},
   "outputs": [
    {
     "data": {
      "text/plain": [
       "0     2000\n",
       "1     2100\n",
       "2     2500\n",
       "3     2250\n",
       "4     3000\n",
       "5     1900\n",
       "6     1500\n",
       "7     1850\n",
       "8     2700\n",
       "9     2100\n",
       "10    2150\n",
       "11    2100\n",
       "12    2100\n",
       "13    2510\n",
       "14    2250\n",
       "15    3100\n",
       "16    1800\n",
       "17    1550\n",
       "18    1800\n",
       "19    2700\n",
       "20    2110\n",
       "21    2100\n",
       "22    3500\n",
       "23    1200\n",
       "24    2800\n",
       "25    3100\n",
       "26    2750\n",
       "27    1800\n",
       "28    2200\n",
       "Name: area, dtype: int64"
      ]
     },
     "execution_count": 7,
     "metadata": {},
     "output_type": "execute_result"
    }
   ],
   "source": [
    "#accessing area column\n",
    "df.area"
   ]
  },
  {
   "cell_type": "code",
   "execution_count": 8,
   "id": "f488eec1",
   "metadata": {},
   "outputs": [
    {
     "data": {
      "text/plain": [
       "0     2000\n",
       "1     2100\n",
       "2     2500\n",
       "3     2250\n",
       "4     3000\n",
       "5     1900\n",
       "6     1500\n",
       "7     1850\n",
       "8     2700\n",
       "9     2100\n",
       "10    2150\n",
       "11    2100\n",
       "12    2100\n",
       "13    2510\n",
       "14    2250\n",
       "15    3100\n",
       "16    1800\n",
       "17    1550\n",
       "18    1800\n",
       "19    2700\n",
       "20    2110\n",
       "21    2100\n",
       "22    3500\n",
       "23    1200\n",
       "24    2800\n",
       "25    3100\n",
       "26    2750\n",
       "27    1800\n",
       "28    2200\n",
       "Name: area, dtype: int64"
      ]
     },
     "execution_count": 8,
     "metadata": {},
     "output_type": "execute_result"
    }
   ],
   "source": [
    "df['area']"
   ]
  },
  {
   "cell_type": "code",
   "execution_count": 9,
   "id": "e4c75a9a",
   "metadata": {},
   "outputs": [
    {
     "data": {
      "text/plain": [
       "<matplotlib.collections.PathCollection at 0x1f809771fd0>"
      ]
     },
     "execution_count": 9,
     "metadata": {},
     "output_type": "execute_result"
    },
    {
     "data": {
      "image/png": "[encoded data removed]",
      "text/plain": [
       "<Figure size 432x288 with 1 Axes>"
      ]
     },
     "metadata": {
      "needs_background": "light"
     },
     "output_type": "display_data"
    }
   ],
   "source": [
    "plt.scatter(df.area, df.rent, color='red')"
   ]
  },
  {
   "cell_type": "code",
   "execution_count": 10,
   "id": "1e9a3d5f",
   "metadata": {},
   "outputs": [
    {
     "data": {
      "text/plain": [
       "Text(0, 0.5, 'Rent in BDT')"
      ]
     },
     "execution_count": 10,
     "metadata": {},
     "output_type": "execute_result"
    },
    {
     "data": {
      "image/png": "[encoded data removed]",
      "text/plain": [
       "<Figure size 720x576 with 1 Axes>"
      ]
     },
     "metadata": {
      "needs_background": "light"
     },
     "output_type": "display_data"
    }
   ],
   "source": [
    "plt.figure(figsize=(10,8))\n",
    "plt.scatter(df.area, df.rent, color='red')\n",
    "plt.xlabel('Area in Square Feet')\n",
    "plt.ylabel('Rent in BDT')"
   ]
  },
  {
   "cell_type": "code",
   "execution_count": 11,
   "id": "03c1cebd",
   "metadata": {},
   "outputs": [],
   "source": [
    "#Sep x,y\n",
    "x = df.drop('rent',axis=1) # x = df[['area']]"
   ]
  },
  {
   "cell_type": "code",
   "execution_count": 12,
   "id": "117dfc13",
   "metadata": {},
   "outputs": [
    {
     "data": {
      "text/html": [
       "<div>\n",
       "<style scoped>\n",
       "    .dataframe tbody tr th:only-of-type {\n",
       "        vertical-align: middle;\n",
       "    }\n",
       "\n",
       "    .dataframe tbody tr th {\n",
       "        vertical-align: top;\n",
       "    }\n",
       "\n",
       "    .dataframe thead th {\n",
       "        text-align: right;\n",
       "    }\n",
       "</style>\n",
       "<table border=\"1\" class=\"dataframe\">\n",
       "  <thead>\n",
       "    <tr style=\"text-align: right;\">\n",
       "      <th></th>\n",
       "      <th>area</th>\n",
       "    </tr>\n",
       "  </thead>\n",
       "  <tbody>\n",
       "    <tr>\n",
       "      <th>0</th>\n",
       "      <td>2000</td>\n",
       "    </tr>\n",
       "    <tr>\n",
       "      <th>1</th>\n",
       "      <td>2100</td>\n",
       "    </tr>\n",
       "    <tr>\n",
       "      <th>2</th>\n",
       "      <td>2500</td>\n",
       "    </tr>\n",
       "    <tr>\n",
       "      <th>3</th>\n",
       "      <td>2250</td>\n",
       "    </tr>\n",
       "    <tr>\n",
       "      <th>4</th>\n",
       "      <td>3000</td>\n",
       "    </tr>\n",
       "  </tbody>\n",
       "</table>\n",
       "</div>"
      ],
      "text/plain": [
       "   area\n",
       "0  2000\n",
       "1  2100\n",
       "2  2500\n",
       "3  2250\n",
       "4  3000"
      ]
     },
     "execution_count": 12,
     "metadata": {},
     "output_type": "execute_result"
    }
   ],
   "source": [
    "x.head()"
   ]
  },
  {
   "cell_type": "code",
   "execution_count": 13,
   "id": "b0d5f6a4",
   "metadata": {},
   "outputs": [
    {
     "data": {
      "text/plain": [
       "0    31500\n",
       "1    35000\n",
       "2    41050\n",
       "3    36100\n",
       "4    52100\n",
       "Name: rent, dtype: int64"
      ]
     },
     "execution_count": 13,
     "metadata": {},
     "output_type": "execute_result"
    }
   ],
   "source": [
    "y = df.rent\n",
    "y.head()"
   ]
  },
  {
   "cell_type": "code",
   "execution_count": 14,
   "id": "385e6129",
   "metadata": {},
   "outputs": [
    {
     "data": {
      "text/plain": [
       "Text(0, 0.5, 'Rent in BDT')"
      ]
     },
     "execution_count": 14,
     "metadata": {},
     "output_type": "execute_result"
    },
    {
     "data": {
      "image/png": "[encoded data removed]",
      "text/plain": [
       "<Figure size 720x576 with 1 Axes>"
      ]
     },
     "metadata": {
      "needs_background": "light"
     },
     "output_type": "display_data"
    }
   ],
   "source": [
    "plt.figure(figsize=(10,8))\n",
    "plt.scatter(x, y, color='cyan')\n",
    "plt.xlabel('Area in Square Feet')\n",
    "plt.ylabel('Rent in BDT')"
   ]
  },
  {
   "cell_type": "code",
   "execution_count": 15,
   "id": "e344b761",
   "metadata": {},
   "outputs": [],
   "source": [
    "# validate training and testing data\n",
    "from sklearn.model_selection import train_test_split"
   ]
  },
  {
   "cell_type": "code",
   "execution_count": 16,
   "id": "11612d1c",
   "metadata": {},
   "outputs": [],
   "source": [
    "xtrain,xtest, ytrain,ytest = train_test_split(x,y,test_size=.30,random_state=42) # ,random_state=1"
   ]
  },
  {
   "cell_type": "code",
   "execution_count": 17,
   "id": "d28f690d",
   "metadata": {},
   "outputs": [
    {
     "data": {
      "text/html": [
       "<div>\n",
       "<style scoped>\n",
       "    .dataframe tbody tr th:only-of-type {\n",
       "        vertical-align: middle;\n",
       "    }\n",
       "\n",
       "    .dataframe tbody tr th {\n",
       "        vertical-align: top;\n",
       "    }\n",
       "\n",
       "    .dataframe thead th {\n",
       "        text-align: right;\n",
       "    }\n",
       "</style>\n",
       "<table border=\"1\" class=\"dataframe\">\n",
       "  <thead>\n",
       "    <tr style=\"text-align: right;\">\n",
       "      <th></th>\n",
       "      <th>area</th>\n",
       "    </tr>\n",
       "  </thead>\n",
       "  <tbody>\n",
       "    <tr>\n",
       "      <th>13</th>\n",
       "      <td>2510</td>\n",
       "    </tr>\n",
       "    <tr>\n",
       "      <th>15</th>\n",
       "      <td>3100</td>\n",
       "    </tr>\n",
       "    <tr>\n",
       "      <th>11</th>\n",
       "      <td>2100</td>\n",
       "    </tr>\n",
       "    <tr>\n",
       "      <th>17</th>\n",
       "      <td>1550</td>\n",
       "    </tr>\n",
       "    <tr>\n",
       "      <th>1</th>\n",
       "      <td>2100</td>\n",
       "    </tr>\n",
       "  </tbody>\n",
       "</table>\n",
       "</div>"
      ],
      "text/plain": [
       "    area\n",
       "13  2510\n",
       "15  3100\n",
       "11  2100\n",
       "17  1550\n",
       "1   2100"
      ]
     },
     "execution_count": 17,
     "metadata": {},
     "output_type": "execute_result"
    }
   ],
   "source": [
    "xtrain.head()"
   ]
  },
  {
   "cell_type": "code",
   "execution_count": 18,
   "id": "7e6bdef5",
   "metadata": {},
   "outputs": [
    {
     "data": {
      "text/plain": [
       "13    40050\n",
       "15    51500\n",
       "11    32000\n",
       "17    21000\n",
       "1     35000\n",
       "Name: rent, dtype: int64"
      ]
     },
     "execution_count": 18,
     "metadata": {},
     "output_type": "execute_result"
    }
   ],
   "source": [
    "ytrain.head()"
   ]
  },
  {
   "cell_type": "code",
   "execution_count": 19,
   "id": "dc702c50",
   "metadata": {},
   "outputs": [
    {
     "data": {
      "text/plain": [
       "(9, 1)"
      ]
     },
     "execution_count": 19,
     "metadata": {},
     "output_type": "execute_result"
    }
   ],
   "source": [
    "xtest.shape"
   ]
  },
  {
   "cell_type": "code",
   "execution_count": 20,
   "id": "690717fc",
   "metadata": {},
   "outputs": [
    {
     "data": {
      "text/plain": [
       "(20, 1)"
      ]
     },
     "execution_count": 20,
     "metadata": {},
     "output_type": "execute_result"
    }
   ],
   "source": [
    "xtrain.shape"
   ]
  },
  {
   "cell_type": "code",
   "execution_count": 21,
   "id": "cffd9999",
   "metadata": {},
   "outputs": [],
   "source": [
    "from sklearn.linear_model import LinearRegression"
   ]
  },
  {
   "cell_type": "code",
   "execution_count": 22,
   "id": "de5f99e9",
   "metadata": {},
   "outputs": [],
   "source": [
    "reg = LinearRegression() #creating obj for linear reg"
   ]
  },
  {
   "cell_type": "code",
   "execution_count": 23,
   "id": "2cf75aef",
   "metadata": {},
   "outputs": [
    {
     "data": {
      "text/plain": [
       "LinearRegression()"
      ]
     },
     "execution_count": 23,
     "metadata": {},
     "output_type": "execute_result"
    }
   ],
   "source": [
    "#training linear regression model with train data\n",
    "reg.fit(xtrain,ytrain)"
   ]
  },
  {
   "cell_type": "code",
   "execution_count": 24,
   "id": "8cf3089b",
   "metadata": {},
   "outputs": [
    {
     "data": {
      "text/plain": [
       "array([19.86671162])"
      ]
     },
     "execution_count": 24,
     "metadata": {},
     "output_type": "execute_result"
    }
   ],
   "source": [
    "m=reg.coef_\n",
    "m"
   ]
  },
  {
   "cell_type": "code",
   "execution_count": 25,
   "id": "ed1ae32d",
   "metadata": {},
   "outputs": [
    {
     "data": {
      "text/plain": [
       "-8754.300392865101"
      ]
     },
     "execution_count": 25,
     "metadata": {},
     "output_type": "execute_result"
    }
   ],
   "source": [
    "c=reg.intercept_\n",
    "c"
   ]
  },
  {
   "cell_type": "code",
   "execution_count": 26,
   "id": "7ab9c1e7",
   "metadata": {},
   "outputs": [
    {
     "data": {
      "text/plain": [
       "array([30979.12283782])"
      ]
     },
     "execution_count": 26,
     "metadata": {},
     "output_type": "execute_result"
    }
   ],
   "source": [
    "#y=mx+c\n",
    "y = (2000*m)+c\n",
    "y"
   ]
  },
  {
   "cell_type": "code",
   "execution_count": 27,
   "id": "71108fd2",
   "metadata": {},
   "outputs": [
    {
     "data": {
      "text/plain": [
       "array([64752.5325839])"
      ]
     },
     "execution_count": 27,
     "metadata": {},
     "output_type": "execute_result"
    }
   ],
   "source": [
    "#y=mx+c\n",
    "y = (3700*m)+c\n",
    "y"
   ]
  },
  {
   "cell_type": "code",
   "execution_count": 28,
   "id": "623a1d99",
   "metadata": {},
   "outputs": [
    {
     "data": {
      "text/plain": [
       "array([64752.5325839])"
      ]
     },
     "execution_count": 28,
     "metadata": {},
     "output_type": "execute_result"
    }
   ],
   "source": [
    "reg.predict([[3700]])"
   ]
  },
  {
   "cell_type": "code",
   "execution_count": 29,
   "id": "96e0aa06",
   "metadata": {},
   "outputs": [
    {
     "data": {
      "text/plain": [
       "area    2259.310345\n",
       "dtype: float64"
      ]
     },
     "execution_count": 29,
     "metadata": {},
     "output_type": "execute_result"
    }
   ],
   "source": [
    "x.mean()"
   ]
  },
  {
   "cell_type": "code",
   "execution_count": 30,
   "id": "4f1876d2",
   "metadata": {},
   "outputs": [
    {
     "data": {
      "text/plain": [
       "64752.53258389821"
      ]
     },
     "execution_count": 30,
     "metadata": {},
     "output_type": "execute_result"
    }
   ],
   "source": [
    "y.mean()"
   ]
  },
  {
   "cell_type": "code",
   "execution_count": 31,
   "id": "c9011849",
   "metadata": {},
   "outputs": [
    {
     "data": {
      "text/plain": [
       "array([27005.78051475, 27005.78051475, 32965.79399935, 60779.19026083,\n",
       "       44885.82096856, 32965.79399935, 32965.79399935, 30979.12283782,\n",
       "       45879.15654932])"
      ]
     },
     "execution_count": 31,
     "metadata": {},
     "output_type": "execute_result"
    }
   ],
   "source": [
    "reg.predict(xtest)"
   ]
  },
  {
   "cell_type": "code",
   "execution_count": 32,
   "id": "3dad7f7d",
   "metadata": {},
   "outputs": [
    {
     "data": {
      "text/plain": [
       "array([30979.12283782, 32965.79399935, 40912.47864549, 35945.80074165,\n",
       "       50845.83445316, 28992.45167628, 21045.76703015, 27999.11609552,\n",
       "       44885.82096856, 32965.79399935, 33959.12958012, 32965.79399935,\n",
       "       32965.79399935, 41111.14576164, 35945.80074165, 52832.50561469,\n",
       "       27005.78051475, 22039.10261091, 27005.78051475, 44885.82096856,\n",
       "       33164.46111551, 32965.79399935, 60779.19026083, 15085.75354554,\n",
       "       46872.49213009, 52832.50561469, 45879.15654932, 27005.78051475,\n",
       "       34952.46516089])"
      ]
     },
     "execution_count": 32,
     "metadata": {},
     "output_type": "execute_result"
    }
   ],
   "source": [
    "reg.predict(x)"
   ]
  },
  {
   "cell_type": "code",
   "execution_count": 33,
   "id": "f8107110",
   "metadata": {},
   "outputs": [
    {
     "data": {
      "text/html": [
       "<div>\n",
       "<style scoped>\n",
       "    .dataframe tbody tr th:only-of-type {\n",
       "        vertical-align: middle;\n",
       "    }\n",
       "\n",
       "    .dataframe tbody tr th {\n",
       "        vertical-align: top;\n",
       "    }\n",
       "\n",
       "    .dataframe thead th {\n",
       "        text-align: right;\n",
       "    }\n",
       "</style>\n",
       "<table border=\"1\" class=\"dataframe\">\n",
       "  <thead>\n",
       "    <tr style=\"text-align: right;\">\n",
       "      <th></th>\n",
       "      <th>area</th>\n",
       "      <th>rent</th>\n",
       "      <th>Predicted Rent</th>\n",
       "    </tr>\n",
       "  </thead>\n",
       "  <tbody>\n",
       "    <tr>\n",
       "      <th>0</th>\n",
       "      <td>2000</td>\n",
       "      <td>31500</td>\n",
       "      <td>30979.122838</td>\n",
       "    </tr>\n",
       "    <tr>\n",
       "      <th>1</th>\n",
       "      <td>2100</td>\n",
       "      <td>35000</td>\n",
       "      <td>32965.793999</td>\n",
       "    </tr>\n",
       "    <tr>\n",
       "      <th>2</th>\n",
       "      <td>2500</td>\n",
       "      <td>41050</td>\n",
       "      <td>40912.478645</td>\n",
       "    </tr>\n",
       "    <tr>\n",
       "      <th>3</th>\n",
       "      <td>2250</td>\n",
       "      <td>36100</td>\n",
       "      <td>35945.800742</td>\n",
       "    </tr>\n",
       "    <tr>\n",
       "      <th>4</th>\n",
       "      <td>3000</td>\n",
       "      <td>52100</td>\n",
       "      <td>50845.834453</td>\n",
       "    </tr>\n",
       "  </tbody>\n",
       "</table>\n",
       "</div>"
      ],
      "text/plain": [
       "   area   rent  Predicted Rent\n",
       "0  2000  31500    30979.122838\n",
       "1  2100  35000    32965.793999\n",
       "2  2500  41050    40912.478645\n",
       "3  2250  36100    35945.800742\n",
       "4  3000  52100    50845.834453"
      ]
     },
     "execution_count": 33,
     "metadata": {},
     "output_type": "execute_result"
    }
   ],
   "source": [
    "df['Predicted Rent'] = reg.predict(x)\n",
    "df.head()"
   ]
  },
  {
   "cell_type": "code",
   "execution_count": 34,
   "id": "8d99ccf7",
   "metadata": {},
   "outputs": [
    {
     "data": {
      "text/plain": [
       "Text(0, 0.5, 'Rent in BDT')"
      ]
     },
     "execution_count": 34,
     "metadata": {},
     "output_type": "execute_result"
    },
    {
     "data": {
      "image/png": "[encoded data removed]",
      "text/plain": [
       "<Figure size 720x576 with 1 Axes>"
      ]
     },
     "metadata": {
      "needs_background": "light"
     },
     "output_type": "display_data"
    }
   ],
   "source": [
    "plt.figure(figsize=(10,8))\n",
    "plt.scatter(df.area, df.rent, color='black')\n",
    "plt.xlabel('Area in Square Feet')\n",
    "plt.ylabel('Rent in BDT')"
   ]
  },
  {
   "cell_type": "markdown",
   "id": "c85e5558",
   "metadata": {},
   "source": [
    "# Best Fit Line"
   ]
  },
  {
   "cell_type": "code",
   "execution_count": 35,
   "id": "d234315f",
   "metadata": {},
   "outputs": [
    {
     "data": {
      "text/plain": [
       "<matplotlib.collections.PathCollection at 0x1f80c73f5e0>"
      ]
     },
     "execution_count": 35,
     "metadata": {},
     "output_type": "execute_result"
    },
    {
     "data": {
      "image/png": "[encoded data removed]",
      "text/plain": [
       "<Figure size 720x576 with 1 Axes>"
      ]
     },
     "metadata": {
      "needs_background": "light"
     },
     "output_type": "display_data"
    }
   ],
   "source": [
    "plt.figure(figsize=(10,8))\n",
    "plt.scatter(df.area, df.rent, color='black')\n",
    "plt.xlabel('Area in Square Feet')\n",
    "plt.ylabel('Rent in BDT')\n",
    "plt.plot(df.area, df['Predicted Rent'])\n",
    "plt.scatter(df.area, df['Predicted Rent'],color='red')"
   ]
  },
  {
   "cell_type": "code",
   "execution_count": 36,
   "id": "3e06a954",
   "metadata": {},
   "outputs": [
    {
     "data": {
      "text/plain": [
       "[<matplotlib.lines.Line2D at 0x1f80c8c62e0>]"
      ]
     },
     "execution_count": 36,
     "metadata": {},
     "output_type": "execute_result"
    },
    {
     "data": {
      "image/png": "[encoded data removed]",
      "text/plain": [
       "<Figure size 432x288 with 1 Axes>"
      ]
     },
     "metadata": {
      "needs_background": "light"
     },
     "output_type": "display_data"
    }
   ],
   "source": [
    "plt.plot(df.area, df['Predicted Rent'])"
   ]
  },
  {
   "cell_type": "code",
   "execution_count": 37,
   "id": "e564a532",
   "metadata": {},
   "outputs": [
    {
     "data": {
      "text/plain": [
       "[<matplotlib.lines.Line2D at 0x1f80c76abb0>]"
      ]
     },
     "execution_count": 37,
     "metadata": {},
     "output_type": "execute_result"
    },
    {
     "data": {
      "image/png": "[encoded data removed]",
      "text/plain": [
       "<Figure size 432x288 with 1 Axes>"
      ]
     },
     "metadata": {
      "needs_background": "light"
     },
     "output_type": "display_data"
    }
   ],
   "source": [
    "plt.plot(df.area, reg.predict(x)) # predicted y, df.predict(x)"
   ]
  },
  {
   "cell_type": "code",
   "execution_count": 38,
   "id": "ee8c34de",
   "metadata": {},
   "outputs": [
    {
     "data": {
      "text/plain": [
       "0.921744133304477"
      ]
     },
     "execution_count": 38,
     "metadata": {},
     "output_type": "execute_result"
    }
   ],
   "source": [
    "reg.score(xtest, ytest) #testing accuracy"
   ]
  },
  {
   "cell_type": "code",
   "execution_count": 39,
   "id": "add8982d",
   "metadata": {},
   "outputs": [
    {
     "data": {
      "text/plain": [
       "array([27005.78051475, 27005.78051475, 32965.79399935, 60779.19026083,\n",
       "       44885.82096856, 32965.79399935, 32965.79399935, 30979.12283782,\n",
       "       45879.15654932])"
      ]
     },
     "execution_count": 39,
     "metadata": {},
     "output_type": "execute_result"
    }
   ],
   "source": [
    "pred_y = reg.predict(xtest)\n",
    "pred_y"
   ]
  },
  {
   "cell_type": "code",
   "execution_count": 40,
   "id": "9790eba0",
   "metadata": {},
   "outputs": [
    {
     "data": {
      "text/plain": [
       "27    25000\n",
       "16    30500\n",
       "12    34500\n",
       "22    70000\n",
       "8     48000\n",
       "9     31000\n",
       "21    33500\n",
       "0     31500\n",
       "26    48000\n",
       "Name: rent, dtype: int64"
      ]
     },
     "execution_count": 40,
     "metadata": {},
     "output_type": "execute_result"
    }
   ],
   "source": [
    "ytest"
   ]
  },
  {
   "cell_type": "code",
   "execution_count": 41,
   "id": "6b515a81",
   "metadata": {},
   "outputs": [
    {
     "data": {
      "text/plain": [
       "13580774.298011921"
      ]
     },
     "execution_count": 41,
     "metadata": {},
     "output_type": "execute_result"
    }
   ],
   "source": [
    "#Mean Squared Error\n",
    "from sklearn.metrics import mean_squared_error\n",
    "mse = mean_squared_error(ytest, pred_y)\n",
    "mse"
   ]
  },
  {
   "cell_type": "code",
   "execution_count": 42,
   "id": "634c49e7",
   "metadata": {},
   "outputs": [
    {
     "data": {
      "text/plain": [
       "2723.435042679973"
      ]
     },
     "execution_count": 42,
     "metadata": {},
     "output_type": "execute_result"
    }
   ],
   "source": [
    "from sklearn.metrics import mean_absolute_error\n",
    "mse = mean_absolute_error(ytest, pred_y)\n",
    "mse"
   ]
  },
  {
   "cell_type": "markdown",
   "id": "2220a13f",
   "metadata": {},
   "source": [
    "# Save ML Models"
   ]
  },
  {
   "cell_type": "code",
   "execution_count": 43,
   "id": "4be48e05",
   "metadata": {},
   "outputs": [],
   "source": [
    "#save trained model using pickle\n",
    "import pickle as pk\n",
    "with open('My_LR1','wb') as files: #save ml model\n",
    "    pk.dump(reg, files)"
   ]
  },
  {
   "cell_type": "code",
   "execution_count": 44,
   "id": "96746587",
   "metadata": {},
   "outputs": [],
   "source": [
    "with open('My_LR1','rb') as files: #import saved model\n",
    "    reg1 = pk.load(files)"
   ]
  },
  {
   "cell_type": "code",
   "execution_count": 45,
   "id": "7a11be71",
   "metadata": {},
   "outputs": [
    {
     "data": {
      "text/plain": [
       "array([40912.47864549])"
      ]
     },
     "execution_count": 45,
     "metadata": {},
     "output_type": "execute_result"
    }
   ],
   "source": [
    "reg1.predict([[2500]]) #saved"
   ]
  },
  {
   "cell_type": "code",
   "execution_count": 46,
   "id": "8ce5a117",
   "metadata": {},
   "outputs": [
    {
     "data": {
      "text/plain": [
       "array([40912.47864549])"
      ]
     },
     "execution_count": 46,
     "metadata": {},
     "output_type": "execute_result"
    }
   ],
   "source": [
    "reg.predict([[2500]])"
   ]
  },
  {
   "cell_type": "code",
   "execution_count": 47,
   "id": "874f5bd6",
   "metadata": {},
   "outputs": [],
   "source": [
    "#easy way using pikle\n",
    "pk.dump(reg,open('My_LR2','wb'))"
   ]
  },
  {
   "cell_type": "code",
   "execution_count": 48,
   "id": "2539a66b",
   "metadata": {},
   "outputs": [],
   "source": [
    "reg3 = pk.load(open('My_LR2','rb'))"
   ]
  },
  {
   "cell_type": "code",
   "execution_count": 49,
   "id": "12c82366",
   "metadata": {},
   "outputs": [
    {
     "data": {
      "text/plain": [
       "array([40912.47864549])"
      ]
     },
     "execution_count": 49,
     "metadata": {},
     "output_type": "execute_result"
    }
   ],
   "source": [
    "reg3.predict([[2500]])"
   ]
  },
  {
   "cell_type": "markdown",
   "id": "f393ff5f",
   "metadata": {},
   "source": [
    "# Save model using Joblib"
   ]
  },
  {
   "cell_type": "code",
   "execution_count": 50,
   "id": "b3ecf467",
   "metadata": {},
   "outputs": [
    {
     "data": {
      "text/plain": [
       "['ML4']"
      ]
     },
     "execution_count": 50,
     "metadata": {},
     "output_type": "execute_result"
    }
   ],
   "source": [
    "import joblib\n",
    "joblib.dump(reg,'ML4')"
   ]
  },
  {
   "cell_type": "code",
   "execution_count": 51,
   "id": "4251cc08",
   "metadata": {},
   "outputs": [
    {
     "ename": "NameError",
     "evalue": "name 'jb' is not defined",
     "output_type": "error",
     "traceback": [
      "\u001b[1;31m---------------------------------------------------------------------------\u001b[0m",
      "\u001b[1;31mNameError\u001b[0m                                 Traceback (most recent call last)",
      "\u001b[1;32m<ipython-input-51-e0c4a7838b26>\u001b[0m in \u001b[0;36m<module>\u001b[1;34m\u001b[0m\n\u001b[1;32m----> 1\u001b[1;33m \u001b[0mreg4\u001b[0m  \u001b[1;33m=\u001b[0m \u001b[0mjb\u001b[0m\u001b[1;33m.\u001b[0m\u001b[0mload\u001b[0m\u001b[1;33m(\u001b[0m\u001b[1;34m'ML4'\u001b[0m\u001b[1;33m)\u001b[0m\u001b[1;33m\u001b[0m\u001b[1;33m\u001b[0m\u001b[0m\n\u001b[0m\u001b[0;32m      2\u001b[0m \u001b[0mreg4\u001b[0m\u001b[1;33m\u001b[0m\u001b[1;33m\u001b[0m\u001b[0m\n",
      "\u001b[1;31mNameError\u001b[0m: name 'jb' is not defined"
     ]
    }
   ],
   "source": [
    "reg4  = jb.load('ML4')\n",
    "reg4"
   ]
  },
  {
   "cell_type": "code",
   "execution_count": null,
   "id": "c44da3be",
   "metadata": {},
   "outputs": [],
   "source": [
    "reg4.predict([[2500]]) "
   ]
  },
  {
   "cell_type": "code",
   "execution_count": null,
   "id": "adfd5f7f",
   "metadata": {},
   "outputs": [],
   "source": [
    "reg4.predict([[3700]])"
   ]
  },
  {
   "cell_type": "code",
   "execution_count": null,
   "id": "5621f9d8",
   "metadata": {},
   "outputs": [],
   "source": [
    "Y = m*3700 + c\n",
    "Y"
   ]
  },
  {
   "cell_type": "code",
   "execution_count": null,
   "id": "b622deb5",
   "metadata": {},
   "outputs": [],
   "source": []
  }
 ],
 "metadata": {
  "kernelspec": {
   "display_name": "Python 3",
   "language": "python",
   "name": "python3"
  },
  "language_info": {
   "codemirror_mode": {
    "name": "ipython",
    "version": 3
   },
   "file_extension": ".py",
   "mimetype": "text/x-python",
   "name": "python",
   "nbconvert_exporter": "python",
   "pygments_lexer": "ipython3",
   "version": "3.8.8"
  }
 },
 "nbformat": 4,
 "nbformat_minor": 5
}
